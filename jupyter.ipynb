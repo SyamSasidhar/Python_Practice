{
 "cells": [
  {
   "cell_type": "code",
   "execution_count": 36,
   "metadata": {},
   "outputs": [],
   "source": [
    "def sortMyList(l):\n",
    "    ln = len(l)\n",
    "\n",
    "    for i in range(ln-1):\n",
    "        for j in range(i+1,ln):\n",
    "            if l[i] > l[j]:\n",
    "                l[i],l[j] = l[j],l[i]\n",
    "\n",
    "    print(l)"
   ]
  },
  {
   "cell_type": "code",
   "execution_count": 37,
   "metadata": {},
   "outputs": [],
   "source": [
    "def binarysearch(lst, n):\n",
    "    l = 0\n",
    "    u = len(lst)-1\n",
    "    found = False\n",
    "\n",
    "    print(l,u)\n",
    "    while l<=u:\n",
    "        mid = (l+u)//2\n",
    "        if lst[mid] == n:\n",
    "            print(\"found at\", mid)\n",
    "            found = True\n",
    "            break\n",
    "        else:\n",
    "            if lst[mid] > n:\n",
    "                u = mid - 1\n",
    "            else:\n",
    "                l = mid+1\n",
    "\n",
    "    if found == False:\n",
    "        print(\"not found \")\n"
   ]
  },
  {
   "cell_type": "code",
   "execution_count": 40,
   "metadata": {},
   "outputs": [
    {
     "name": "stdout",
     "output_type": "stream",
     "text": [
      "[18, 2, 32, 43, 5, 95, 15, 75, 16, 23, 34, -35]\n",
      "[-35, 2, 5, 15, 16, 18, 23, 32, 34, 43, 75, 95]\n",
      "0 11\n",
      "found at 4\n"
     ]
    }
   ],
   "source": [
    "lst = [18,2,32,43,5,95,15,75,16,23,34,-35]\n",
    "print(lst)\n",
    "\n",
    "sortMyList(lst)\n",
    "n = 16\n",
    "binarysearch(lst, n)"
   ]
  }
 ],
 "metadata": {
  "kernelspec": {
   "display_name": "Python 3",
   "language": "python",
   "name": "python3"
  },
  "language_info": {
   "codemirror_mode": {
    "name": "ipython",
    "version": 3
   },
   "file_extension": ".py",
   "mimetype": "text/x-python",
   "name": "python",
   "nbconvert_exporter": "python",
   "pygments_lexer": "ipython3",
   "version": "3.11.2"
  },
  "orig_nbformat": 4
 },
 "nbformat": 4,
 "nbformat_minor": 2
}
